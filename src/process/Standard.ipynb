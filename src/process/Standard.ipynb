{
 "cells": [
  {
   "cell_type": "code",
   "execution_count": 1,
   "metadata": {},
   "outputs": [],
   "source": [
    "import pandas as pd"
   ]
  },
  {
   "cell_type": "code",
   "execution_count": 199,
   "metadata": {},
   "outputs": [],
   "source": [
    "path_booking = 'booking.com/bookingfinal.csv'\n",
    "path_expedia = 'expedia/expediafinal.csv'\n",
    "path_ebooking='ebooking/ebookingfinal.csv'\n",
    "path_agoda='agoda/agodafinal.csv'"
   ]
  },
  {
   "cell_type": "code",
   "execution_count": 212,
   "metadata": {},
   "outputs": [],
   "source": [
    "booking1= pd.read_csv(path_booking)\n",
    "expedia1 = pd.read_csv(path_expedia)\n",
    "ebooking1=pd.read_csv(path_ebooking)\n",
    "agoda1=pd.read_csv(path_agoda)"
   ]
  },
  {
   "cell_type": "markdown",
   "metadata": {},
   "source": [
    "\n",
    "# Lọc trùng lần 1"
   ]
  },
  {
   "cell_type": "code",
   "execution_count": 215,
   "metadata": {},
   "outputs": [],
   "source": [
    "booking1=booking1.drop_duplicates(subset=['hotel name','city']).reset_index(drop=True)\n",
    "expedia1=expedia1.drop_duplicates(subset=['hotel name','city']).reset_index(drop=True)\n",
    "agoda1=agoda1.drop_duplicates(subset=['hotel name','city']).reset_index(drop=True)\n",
    "ebooking1=ebooking1.drop_duplicates(subset=['name','city']).reset_index(drop=True)\n"
   ]
  },
  {
   "cell_type": "code",
   "execution_count": null,
   "metadata": {},
   "outputs": [],
   "source": []
  },
  {
   "cell_type": "code",
   "execution_count": null,
   "metadata": {},
   "outputs": [],
   "source": []
  },
  {
   "cell_type": "markdown",
   "metadata": {},
   "source": [
    "# Chuẩn hóa"
   ]
  },
  {
   "cell_type": "markdown",
   "metadata": {},
   "source": [
    "## Expedia"
   ]
  },
  {
   "cell_type": "code",
   "execution_count": null,
   "metadata": {},
   "outputs": [],
   "source": []
  },
  {
   "cell_type": "code",
   "execution_count": 216,
   "metadata": {},
   "outputs": [],
   "source": [
    "expedia1[['price','stars','rating']]=expedia1[['price','stars','rating']].fillna(-1)\n",
    "expedia1['n_reviews']=expedia1['n_reviews'].fillna(0)"
   ]
  },
  {
   "cell_type": "code",
   "execution_count": 217,
   "metadata": {},
   "outputs": [],
   "source": [
    "expedia1['price']=expedia1['price'].apply(lambda x: int(x.partition('₫')[0].replace('.','')) if x != -1 else x)\n",
    "expedia1['stars']=expedia1['stars'].apply(lambda x: float(x.partition('out')[0]) if x !=-1 else x)\n",
    "expedia1['rating']=expedia1['rating'].apply(lambda x: float(x.partition('/')[0].replace(',','.')) if x !=-1 else x)"
   ]
  },
  {
   "cell_type": "code",
   "execution_count": 228,
   "metadata": {},
   "outputs": [],
   "source": [
    "expedia1['n_reviews']=expedia1['n_reviews'].apply(lambda x: int(x.partition('n')[0].replace('.','')) if x!=0 else x)\n"
   ]
  },
  {
   "cell_type": "code",
   "execution_count": null,
   "metadata": {},
   "outputs": [],
   "source": []
  },
  {
   "cell_type": "markdown",
   "metadata": {},
   "source": [
    "## Agoda"
   ]
  },
  {
   "cell_type": "code",
   "execution_count": null,
   "metadata": {},
   "outputs": [],
   "source": []
  },
  {
   "cell_type": "code",
   "execution_count": 205,
   "metadata": {},
   "outputs": [],
   "source": [
    "agoda1[['price','stars','rating']]=agoda1[['price','stars','rating']].fillna(-1)\n",
    "agoda1['n_reviews']=agoda1['n_reviews'].fillna(0)"
   ]
  },
  {
   "cell_type": "code",
   "execution_count": 219,
   "metadata": {},
   "outputs": [],
   "source": [
    "agoda1['stars']=agoda1['stars'].astype(float)"
   ]
  },
  {
   "cell_type": "code",
   "execution_count": 229,
   "metadata": {},
   "outputs": [],
   "source": [
    "agoda1['n_reviews']=agoda1['n_reviews'].apply(lambda x: int(x.partition('N')[0].replace('.','')) if x!=0 else x)"
   ]
  },
  {
   "cell_type": "code",
   "execution_count": 240,
   "metadata": {},
   "outputs": [],
   "source": [
    "agoda1['price']=agoda1['price'].apply(lambda x: int(x.replace('.','')) if x!=-1 else x)"
   ]
  },
  {
   "cell_type": "code",
   "execution_count": 244,
   "metadata": {},
   "outputs": [],
   "source": [
    "agoda1['rating']=agoda1['rating'].apply(lambda x: float(x.replace(',','.')) if x!=-1 else x)"
   ]
  },
  {
   "cell_type": "code",
   "execution_count": null,
   "metadata": {},
   "outputs": [],
   "source": []
  },
  {
   "cell_type": "markdown",
   "metadata": {},
   "source": [
    "## Ebooking"
   ]
  },
  {
   "cell_type": "code",
   "execution_count": 251,
   "metadata": {},
   "outputs": [
    {
     "data": {
      "text/plain": [
       "url              0\n",
       "img              0\n",
       "name             0\n",
       "address          0\n",
       "rating           0\n",
       "facilities       0\n",
       "price            0\n",
       "star            84\n",
       "n_review      1659\n",
       "nearby          41\n",
       "lat              0\n",
       "lot              0\n",
       "city             0\n",
       "dtype: int64"
      ]
     },
     "execution_count": 251,
     "metadata": {},
     "output_type": "execute_result"
    }
   ],
   "source": [
    "ebooking1.isnull().sum()"
   ]
  },
  {
   "cell_type": "code",
   "execution_count": 250,
   "metadata": {},
   "outputs": [],
   "source": [
    "ebooking1['price']=ebooking1['price'].fillna(-1)"
   ]
  },
  {
   "cell_type": "code",
   "execution_count": 253,
   "metadata": {},
   "outputs": [],
   "source": [
    "ebooking1['star']=ebooking1['star'].fillna(-1)\n",
    "ebooking1['rating'].replace('-',-1, inplace=True, regex=True)\n",
    "ebooking1['n_review'].replace('-',0, inplace=True, regex=True)\n",
    "ebooking1['n_review']=ebooking1['n_review'].fillna(0)"
   ]
  },
  {
   "cell_type": "code",
   "execution_count": 268,
   "metadata": {},
   "outputs": [],
   "source": [
    "ebooking1['rating']=ebooking1['rating'].astype(float)\n",
    "ebooking1['n_review']=ebooking1['n_review'].astype(int, errors = 'ignore')\n"
   ]
  },
  {
   "cell_type": "code",
   "execution_count": null,
   "metadata": {},
   "outputs": [],
   "source": []
  },
  {
   "cell_type": "markdown",
   "metadata": {},
   "source": [
    "## Booking.com"
   ]
  },
  {
   "cell_type": "code",
   "execution_count": null,
   "metadata": {},
   "outputs": [],
   "source": []
  },
  {
   "cell_type": "code",
   "execution_count": 271,
   "metadata": {},
   "outputs": [],
   "source": [
    "booking1['price']=booking1['price'].fillna(-1)\n",
    "booking1['rating']=booking1['rating'].fillna(-1)\n",
    "booking1['n_reviews']=booking1['n_reviews'].fillna(0)"
   ]
  },
  {
   "cell_type": "code",
   "execution_count": 274,
   "metadata": {},
   "outputs": [],
   "source": [
    "booking1['stars']=booking1['stars'].astype(float)"
   ]
  },
  {
   "cell_type": "code",
   "execution_count": 278,
   "metadata": {},
   "outputs": [],
   "source": [
    "booking1['price']=booking1['price'].apply(lambda x: int(x.partition('D')[2].replace('.','')) if x!=-1 else x)"
   ]
  },
  {
   "cell_type": "code",
   "execution_count": 286,
   "metadata": {},
   "outputs": [],
   "source": [
    "booking1['rating']=booking1['rating'].apply(lambda x: float(x.replace(',','.')) if x!=-1 else x)"
   ]
  },
  {
   "cell_type": "code",
   "execution_count": 283,
   "metadata": {},
   "outputs": [],
   "source": [
    "booking1['n_reviews']=booking1['n_reviews'].apply(lambda x: int(x.replace(',','')) if x!=0 else x )"
   ]
  },
  {
   "cell_type": "code",
   "execution_count": null,
   "metadata": {},
   "outputs": [],
   "source": []
  },
  {
   "cell_type": "code",
   "execution_count": 288,
   "metadata": {},
   "outputs": [],
   "source": [
    "#Lưu lại dữ liệu:\n",
    "expedia1.to_csv('expedia/stdexpedia.csv',index =0)\n",
    "booking1.to_csv('booking.com/stdbooking.csv',index=0)\n",
    "agoda1.to_csv('agoda/stdagoda.csv',index=0)\n",
    "ebooking1.to_csv('ebooking/stdebooking.csv',index=0)"
   ]
  },
  {
   "cell_type": "code",
   "execution_count": null,
   "metadata": {},
   "outputs": [],
   "source": []
  },
  {
   "cell_type": "code",
   "execution_count": null,
   "metadata": {},
   "outputs": [],
   "source": []
  }
 ],
 "metadata": {
  "kernelspec": {
   "display_name": "Python 3",
   "language": "python",
   "name": "python3"
  },
  "language_info": {
   "codemirror_mode": {
    "name": "ipython",
    "version": 3
   },
   "file_extension": ".py",
   "mimetype": "text/x-python",
   "name": "python",
   "nbconvert_exporter": "python",
   "pygments_lexer": "ipython3",
   "version": "3.6.9"
  }
 },
 "nbformat": 4,
 "nbformat_minor": 2
}
